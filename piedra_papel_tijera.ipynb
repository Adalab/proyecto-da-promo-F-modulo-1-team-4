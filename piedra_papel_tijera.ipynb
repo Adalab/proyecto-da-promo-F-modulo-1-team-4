{
 "cells": [
  {
   "cell_type": "code",
   "execution_count": null,
   "metadata": {},
   "outputs": [],
   "source": [
    " # PIEDRA PAPEL Y TIJERA"
   ]
  },
  {
   "cell_type": "code",
   "execution_count": 6,
   "metadata": {},
   "outputs": [],
   "source": [
    "# LIBRERIAS\n",
    "import random\n",
    "import math"
   ]
  },
  {
   "cell_type": "markdown",
   "metadata": {},
   "source": [
    "1. Comienza por definir el número de puntos objetivo que se deben alcanzar para ganar el juego."
   ]
  },
  {
   "cell_type": "code",
   "execution_count": null,
   "metadata": {},
   "outputs": [],
   "source": [
    "#Hay que utilizar join para convertir la lista en una variable y asi pueda hacer la comparación.\n",
    "contador_jugador1 = 1\n",
    "contador_ordenador = 1\n",
    "\n",
    "\n",
    "while contador_jugador1 < 3 and contador_ordenador < 3:\n",
    "    eleccion_jugador1 = input('¿Qué opción eliges, piedra, papel o tijera').upper()\n",
    "    eleccion_ordenador = \"\".join(random.sample(['PIEDRA' , 'PAPEL' ,'TIJERA'], 1))\n",
    "    \n",
    "    if eleccion_jugador1 != 'PIEDRA' and eleccion_jugador1 != 'PAPEL' and eleccion_jugador1 != 'TIJERA':\n",
    "        eleccion_jugador1 = input('¿No válido. Has de elegir piedra, papel o tijera').upper()\n",
    "    \n",
    "    elif eleccion_jugador1 == 'PIEDRA' and eleccion_ordenador == 'TIJERA' or eleccion_jugador1 == 'PAPEL' and eleccion_ordenador == 'PIEDRA' or eleccion_jugador1 == 'TIJERA' and eleccion_ordenador == 'PAPEL':\n",
    "        contador_jugador1 +=1\n",
    "        print(f'¡Has ganado un punto!. Tus puntos totales son: {contador_jugador1}, y los puntos de tu adversario {contador_ordenador}' )\n",
    "            \n",
    "    elif eleccion_jugador1 == 'PIEDRA' and eleccion_ordenador == 'PAPEL' or eleccion_jugador1 == 'PAPEL' and eleccion_ordenador == 'TIJERA' or eleccion_jugador1 == 'TIJERA' and eleccion_ordenador == 'PIEDRA':\n",
    "        contador_ordenador +=1\n",
    "        print(f'¡El ordenador ha ganado un punto! Tus puntos totales son: {contador_jugador1}, y los puntos de tu adversario {contador_ordenador}')\n",
    "        \n",
    "    elif eleccion_jugador1 == 'PIEDRA' and eleccion_ordenador == 'PIEDRA' or eleccion_jugador1 == 'PAPEL' and eleccion_ordenador == 'PAPEL'or eleccion_jugador1 == 'TIJERA' and eleccion_ordenador == 'TIJERA':\n",
    "        print(f'Has empatado. Tus puntos totales son: {contador_jugador1}, y los puntos de tu adversario {contador_ordenador}')\n"
   ]
  },
  {
   "cell_type": "code",
   "execution_count": 7,
   "metadata": {},
   "outputs": [
    {
     "name": "stdout",
     "output_type": "stream",
     "text": [
      "El juego ha terminado. Tus puntos totales son: 0, y los puntos de tu adversario 0\n"
     ]
    }
   ],
   "source": [
    "puntos_para_ganar = 10\n",
    "\n",
    "\n",
    "#Hay que utilizar join para convertir la lista en una variable y asi pueda hacer la comparación.\n",
    "contador_jugador1 = 0\n",
    "contador_ordenador = 0\n",
    "\n",
    "while  contador_jugador1 and contador_ordenador != 2:\n",
    "    eleccion_jugador1 = input('¿Qué opción eliges, piedra, papel o tijera',).upper()\n",
    "    print(f'la eleccion del jugador es {eleccion_jugador1}')\n",
    "    eleccion_ordenador = \"\".join(random.sample(['PIEDRA' , 'PAPEL' ,'TIJERA'], 1))\n",
    "    print(f'la eleccion del ordenador es {eleccion_ordenador}')\n",
    "    \n",
    "    if eleccion_jugador1 == 'PIEDRA' and eleccion_ordenador == 'TIJERA':\n",
    "        contador_jugador1 +=1\n",
    "        print(f'¡Has ganado un punto!. Tus puntos totales son: {contador_jugador1}, y los puntos de tu adversario {contador_ordenador}' )\n",
    "        \n",
    "    elif eleccion_jugador1 == 'PIEDRA' and eleccion_ordenador == 'PAPEL':\n",
    "        contador_ordenador +=1\n",
    "        print(f'¡El ordenador ha ganado un punto! Tus puntos totales son: {contador_jugador1}, y los puntos de tu adversario {contador_ordenador}')\n",
    "       \n",
    "        print(contador_ordenador)\n",
    "    elif eleccion_jugador1 == 'PIEDRA' and eleccion_ordenador == 'PIEDRA':\n",
    "        print(f'Has empatado. Tus puntos totales son: {contador_jugador1}, y los puntos de tu adversario {contador_ordenador}')\n",
    "       \n",
    "\n",
    "    if eleccion_jugador1 == 'PAPEL' and eleccion_ordenador == 'PIEDRA':\n",
    "        contador_jugador1 +=1\n",
    "        print(f'¡Has ganado un punto!Tus puntos totales son: {contador_jugador1}, y los puntos de tu adversario {contador_ordenador}')\n",
    "       \n",
    "    elif eleccion_jugador1 == 'PAPEL' and eleccion_ordenador == 'TIJERA':\n",
    "        contador_ordenador +=1\n",
    "        print(f'¡El ordenador ha ganado un punto! Tus puntos totales son: {contador_jugador1}, y los puntos de tu adversario {contador_ordenador}')\n",
    "    \n",
    "        print(contador_ordenador)\n",
    "    elif eleccion_jugador1 == 'PAPEL' and eleccion_ordenador == 'PAPEL':\n",
    "        print(f'Has empatado. Tus puntos totales son: {contador_jugador1}, y los puntos de tu adversario {contador_ordenador}')\n",
    "       \n",
    "\n",
    "    if eleccion_jugador1 == 'TIJERA' and eleccion_ordenador == 'PIEDRA':\n",
    "        contador_jugador1 +=1\n",
    "        print(f'¡Has ganado un punto! Tus puntos totales son: {contador_jugador1}, y los puntos de tu adversario {contador_ordenador}')\n",
    "        \n",
    "    elif eleccion_jugador1 == 'TIJERA' and eleccion_ordenador == 'PAPEL':\n",
    "        contador_ordenador +=1\n",
    "        print(f'¡El ordenador ha ganado un punto! Tus puntos totales son: {contador_jugador1}, y los puntos de tu adversario {contador_ordenador}')\n",
    "        \n",
    "     \n",
    "    elif eleccion_jugador1 == 'TIJERA' and eleccion_ordenador == 'TIJERA':\n",
    "        print(f'Has empatado. Tus puntos totales son: {contador_jugador1}, y los puntos de tu adversario {contador_ordenador}')\n",
    "        \n",
    "else:\n",
    "    print(f'El juego ha terminado. Tus puntos totales son: {contador_jugador1}, y los puntos de tu adversario {contador_ordenador}')\n"
   ]
  },
  {
   "cell_type": "markdown",
   "metadata": {},
   "source": [
    "Estamos definiendo los primeros pasos del ejercicio:\n",
    "    - definir variables\n",
    "    - formular elecciones\n",
    "    - crear contador\n",
    "\n",
    "Las opciones del juego serían:\n",
    "\n",
    "1. PIEDRA gana TIJERA\n",
    "2. PIEDRA pierde PAPEL\n",
    "3. PIEDRA empata PIEDRA\n",
    "\n",
    "1. TIJERA gana PAPEL\n",
    "2. TIJERA pierde PIEDRA\n",
    "3. TIJERA empata TIJERA\n",
    "\n",
    "1. PAPEL gana PIEDRA\n",
    "2. PAPEL pierde TIJERA\n",
    "3. PAPEL empata PAPEL"
   ]
  },
  {
   "cell_type": "code",
   "execution_count": 22,
   "metadata": {},
   "outputs": [],
   "source": [
    "\n"
   ]
  }
 ],
 "metadata": {
  "kernelspec": {
   "display_name": "base",
   "language": "python",
   "name": "python3"
  },
  "language_info": {
   "codemirror_mode": {
    "name": "ipython",
    "version": 3
   },
   "file_extension": ".py",
   "mimetype": "text/x-python",
   "name": "python",
   "nbconvert_exporter": "python",
   "pygments_lexer": "ipython3",
   "version": "3.9.7"
  }
 },
 "nbformat": 4,
 "nbformat_minor": 2
}
