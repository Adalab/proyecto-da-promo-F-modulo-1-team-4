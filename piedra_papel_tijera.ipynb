{
 "cells": [
  {
   "cell_type": "markdown",
   "metadata": {},
   "source": [
    "# Piedra, Papel o Tijera"
   ]
  },
  {
   "cell_type": "code",
   "execution_count": 1,
   "metadata": {},
   "outputs": [],
   "source": [
    "# Importamos la librería RANDOM para poder utilizarla en el juego\n",
    "import random"
   ]
  },
  {
   "cell_type": "code",
   "execution_count": 5,
   "metadata": {},
   "outputs": [
    {
     "name": "stdout",
     "output_type": "stream",
     "text": [
      "Has elegido PIEDRA\n",
      "Tu adversario ha elegido PAPEL\n",
      "¡El ordenador ha ganado un punto!\n",
      "Tus puntos totales son: 0 y los puntos de tu adversario: 1\n",
      "\n",
      "Has elegido PAPEL\n",
      "Tu adversario ha elegido PAPEL\n",
      "¡Habéis empatado!\n",
      "Tus puntos totales son: 0 y los puntos de tu adversario: 1\n",
      "\n",
      "Has elegido PAPEL\n",
      "Tu adversario ha elegido PIEDRA\n",
      "¡Has ganado un punto!\n",
      "Tus puntos totales son: 1 y los puntos de tu adversario: 1\n",
      "\n",
      "Has elegido TIJERA\n",
      "Tu adversario ha elegido PAPEL\n",
      "¡Has ganado un punto!\n",
      "Tus puntos totales son: 2 y los puntos de tu adversario: 1\n",
      "\n",
      "Has elegido PIEDRA\n",
      "Tu adversario ha elegido TIJERA\n",
      "¡Has ganado un punto!\n",
      "Tus puntos totales son: 3 y los puntos de tu adversario: 1\n",
      "\n",
      "¡El juego ha termninado!¡Has ganado! :)\n"
     ]
    }
   ],
   "source": [
    "# En primer lugar definimos los contadores de los dos jugadores\n",
    "contador_jugador1 = 0\n",
    "contador_ordenador = 0\n",
    "\n",
    "# Después creamos un bucle WHILE que irá repitiendo las jugadas hasta que alguno de los jugadores alcance la puntuación máxima (3 puntos)\n",
    "while contador_jugador1 < 3 and contador_ordenador < 3:\n",
    "    eleccion_jugador1 = input('¿Qué opción eliges, piedra, papel o tijera').upper() # Pedimos al usuario que elija su jugada\n",
    "    eleccion_ordenador = \"\".join(random.sample(['PIEDRA' , 'PAPEL' ,'TIJERA'], 1)) # Hay que utilizar join para convertir la lista en una variable y asi pueda hacer la comparación.\n",
    "\n",
    "    # Imprimimos ambas elecciones para que el usuario lo pueda visualizar en cada jugada\n",
    "    print(f'Has elegido {eleccion_jugador1}')\n",
    "    print(f'Tu adversario ha elegido {eleccion_ordenador}')\n",
    "    \n",
    "    # Bloqueamos la jugada si el usuario hace una elección no válida (programación defensiva)\n",
    "    if eleccion_jugador1 != 'PIEDRA' and eleccion_jugador1 != 'PAPEL' and eleccion_jugador1 != 'TIJERA':\n",
    "        eleccion_jugador1 = input('Esa opción no es válida! Has de elegir piedra, papel o tijera').upper()\n",
    "\n",
    "    # Definimos las condiciones para que puntúe un jugador u otro\n",
    "    elif eleccion_jugador1 == 'PIEDRA' and eleccion_ordenador == 'TIJERA' or eleccion_jugador1 == 'PAPEL' and eleccion_ordenador == 'PIEDRA' or eleccion_jugador1 == 'TIJERA' and eleccion_ordenador == 'PAPEL':\n",
    "        contador_jugador1 +=1\n",
    "        print(f'¡Has ganado un punto!\\nTus puntos totales son: {contador_jugador1} y los puntos de tu adversario: {contador_ordenador}\\n' )\n",
    "            \n",
    "    elif eleccion_jugador1 == 'PIEDRA' and eleccion_ordenador == 'PAPEL' or eleccion_jugador1 == 'PAPEL' and eleccion_ordenador == 'TIJERA' or eleccion_jugador1 == 'TIJERA' and eleccion_ordenador == 'PIEDRA':\n",
    "        contador_ordenador +=1\n",
    "        print(f'¡El ordenador ha ganado un punto!\\nTus puntos totales son: {contador_jugador1} y los puntos de tu adversario: {contador_ordenador}\\n')\n",
    "        \n",
    "    elif eleccion_jugador1 == 'PIEDRA' and eleccion_ordenador == 'PIEDRA' or eleccion_jugador1 == 'PAPEL' and eleccion_ordenador == 'PAPEL'or eleccion_jugador1 == 'TIJERA' and eleccion_ordenador == 'TIJERA':\n",
    "        print(f'¡Habéis empatado!\\nTus puntos totales son: {contador_jugador1} y los puntos de tu adversario: {contador_ordenador}\\n')\n",
    "\n",
    "    # Mostramos los mensajes de fin de juego cuando uno de los jugadores alcanza la puntuación requerida\n",
    "    if contador_jugador1 == 3 or contador_ordenador == 3:\n",
    "        if contador_jugador1 == 3:\n",
    "            print(f'¡El juego ha termninado!¡Has ganado! :)')\n",
    "        elif contador_ordenador ==3:\n",
    "            print(f'¡El juego ha termninado! Has perdido :( Tu adversario ha ganado la partida')\n"
   ]
  },
  {
   "cell_type": "code",
   "execution_count": 22,
   "metadata": {},
   "outputs": [],
   "source": [
    "\n"
   ]
  }
 ],
 "metadata": {
  "kernelspec": {
   "display_name": "base",
   "language": "python",
   "name": "python3"
  },
  "language_info": {
   "codemirror_mode": {
    "name": "ipython",
    "version": 3
   },
   "file_extension": ".py",
   "mimetype": "text/x-python",
   "name": "python",
   "nbconvert_exporter": "python",
   "pygments_lexer": "ipython3",
   "version": "3.9.7"
  }
 },
 "nbformat": 4,
 "nbformat_minor": 2
}
