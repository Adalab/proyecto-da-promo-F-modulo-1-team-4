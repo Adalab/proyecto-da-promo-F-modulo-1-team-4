{
 "cells": [
  {
   "cell_type": "code",
   "execution_count": null,
   "metadata": {},
   "outputs": [],
   "source": [
    " # PIEDRA PAPEL Y TIJERA"
   ]
  },
  {
   "cell_type": "code",
   "execution_count": 4,
   "metadata": {},
   "outputs": [],
   "source": [
    "# LIBRERIAS\n",
    "import random\n",
    "import math"
   ]
  },
  {
   "cell_type": "markdown",
   "metadata": {},
   "source": [
    "1. Comienza por definir el número de puntos objetivo que se deben alcanzar para ganar el juego."
   ]
  },
  {
   "cell_type": "code",
   "execution_count": 25,
   "metadata": {},
   "outputs": [
    {
     "name": "stdout",
     "output_type": "stream",
     "text": [
      "PIEDRA\n",
      "TIJERA\n"
     ]
    },
    {
     "ename": "TypeError",
     "evalue": "'int' object is not iterable",
     "output_type": "error",
     "traceback": [
      "\u001b[0;31m---------------------------------------------------------------------------\u001b[0m",
      "\u001b[0;31mTypeError\u001b[0m                                 Traceback (most recent call last)",
      "\u001b[0;32m/tmp/ipykernel_22068/1118533651.py\u001b[0m in \u001b[0;36m<module>\u001b[0;34m\u001b[0m\n\u001b[1;32m     12\u001b[0m \u001b[0;32mwhile\u001b[0m \u001b[0mcontador_jugador1\u001b[0m \u001b[0;32mor\u001b[0m \u001b[0mcontador_ordenador\u001b[0m \u001b[0;34m==\u001b[0m \u001b[0;36m10\u001b[0m\u001b[0;34m:\u001b[0m\u001b[0;34m\u001b[0m\u001b[0;34m\u001b[0m\u001b[0m\n\u001b[1;32m     13\u001b[0m     \u001b[0;32mif\u001b[0m \u001b[0meleccion_jugador1\u001b[0m \u001b[0;34m==\u001b[0m \u001b[0;34m'PIEDRA'\u001b[0m \u001b[0;32mand\u001b[0m \u001b[0meleccion_ordenador\u001b[0m \u001b[0;34m==\u001b[0m \u001b[0;34m'TIJERA'\u001b[0m\u001b[0;34m:\u001b[0m\u001b[0;34m\u001b[0m\u001b[0;34m\u001b[0m\u001b[0m\n\u001b[0;32m---> 14\u001b[0;31m         \u001b[0mcontador_jugador1\u001b[0m \u001b[0;34m+=\u001b[0m\u001b[0;36m1\u001b[0m\u001b[0;34m\u001b[0m\u001b[0;34m\u001b[0m\u001b[0m\n\u001b[0m\u001b[1;32m     15\u001b[0m         \u001b[0mprint\u001b[0m\u001b[0;34m(\u001b[0m\u001b[0mcontador_jugador1\u001b[0m\u001b[0;34m)\u001b[0m\u001b[0;34m\u001b[0m\u001b[0;34m\u001b[0m\u001b[0m\n",
      "\u001b[0;31mTypeError\u001b[0m: 'int' object is not iterable"
     ]
    }
   ],
   "source": [
    "puntos_para_ganar = 10\n",
    "\n",
    "eleccion_jugador1 = input('¿Qué opción eliges, piedra, papel o tijera',).upper()\n",
    "print(eleccion_jugador1)\n",
    "\n",
    "eleccion_ordenador = \"\".join(random.sample(['PIEDRA' , 'PAPEL' ,'TIJERA'], 1))\n",
    "print(eleccion_ordenador)\n",
    "\n",
    "contador_jugador1 = [0]\n",
    "contador_ordenador = [0]\n",
    "\n",
    "while contador_jugador1 or contador_ordenador == 10:\n",
    "    if eleccion_jugador1 == 'PIEDRA' and eleccion_ordenador == 'TIJERA':\n",
    "        contador_jugador1 +=1\n",
    "        print(contador_jugador1)\n"
   ]
  },
  {
   "cell_type": "markdown",
   "metadata": {},
   "source": [
    "Estamos definiendo los primeros pasos del ejercicio:\n",
    "    - definir variables\n",
    "    - formular elecciones\n",
    "    - crear contador\n",
    "\n",
    "Las opciones del juego serían:\n",
    "\n",
    "1. PIEDRA gana TIJERA\n",
    "2. PIEDRA pierde PAPEL\n",
    "3. PIEDRA empata PIEDRA\n",
    "\n",
    "1. TIJERA gana PAPEL\n",
    "2. TIJERA pierde PIEDRA\n",
    "3. TIJERA empata TIJERA\n",
    "\n",
    "1. PAPEL gana PIEDRA\n",
    "2. PAPEL pierde TIJERA\n",
    "3. PAPEL empata PAPEL"
   ]
  },
  {
   "cell_type": "code",
   "execution_count": 22,
   "metadata": {},
   "outputs": [],
   "source": [
    "\n"
   ]
  }
 ],
 "metadata": {
  "kernelspec": {
   "display_name": "base",
   "language": "python",
   "name": "python3"
  },
  "language_info": {
   "codemirror_mode": {
    "name": "ipython",
    "version": 3
   },
   "file_extension": ".py",
   "mimetype": "text/x-python",
   "name": "python",
   "nbconvert_exporter": "python",
   "pygments_lexer": "ipython3",
   "version": "3.9.7"
  }
 },
 "nbformat": 4,
 "nbformat_minor": 2
}
