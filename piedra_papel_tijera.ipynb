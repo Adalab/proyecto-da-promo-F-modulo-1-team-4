{
 "cells": [
  {
   "cell_type": "code",
   "execution_count": null,
   "metadata": {},
   "outputs": [],
   "source": [
    " # PIEDRA PAPEL Y TIJERA"
   ]
  },
  {
   "cell_type": "code",
   "execution_count": 1,
   "metadata": {},
   "outputs": [],
   "source": [
    "# LIBRERIAS\n",
    "import random\n",
    "import math"
   ]
  },
  {
   "cell_type": "markdown",
   "metadata": {},
   "source": [
    "1. Comienza por definir el número de puntos objetivo que se deben alcanzar para ganar el juego."
   ]
  },
  {
   "cell_type": "code",
   "execution_count": 3,
   "metadata": {},
   "outputs": [
    {
     "ename": "SyntaxError",
     "evalue": "invalid syntax (3900225324.py, line 6)",
     "output_type": "error",
     "traceback": [
      "\u001b[0;36m  File \u001b[0;32m\"/tmp/ipykernel_7428/3900225324.py\"\u001b[0;36m, line \u001b[0;32m6\u001b[0m\n\u001b[0;31m    eleccion_ordenador = \"\".join(random.sample(['PIEDRA' , 'PAPEL' ,'TIJERA']0,2))\u001b[0m\n\u001b[0m                                                                             ^\u001b[0m\n\u001b[0;31mSyntaxError\u001b[0m\u001b[0;31m:\u001b[0m invalid syntax\n"
     ]
    }
   ],
   "source": [
    "puntos_para_ganar = 10\n",
    "\n",
    "eleccion_jugador1 = input('¿Qué opción eliges, piedra, papel o tijera',).upper()\n",
    "print(eleccion_jugador1)\n",
    "\n",
    "eleccion_ordenador = \"\".join(random.sample(['PIEDRA' , 'PAPEL' ,'TIJERA']0,2))\n",
    "print(eleccion_ordenador)\n",
    "\n",
    "contador_jugador1 = 0\n",
    "contador_ordenador = 0\n",
    "\n",
    "while contador_jugador1 or contador_ordenador < 10:\n",
    "    if eleccion_jugador1 == 'PIEDRA' and eleccion_ordenador == 'TIJERA':\n",
    "        contador_jugador1 +=1\n",
    "        print('¡Has ganado un punto!')\n",
    "        eleccion_jugador1 = input('¿Elije de nuevo, piedra, papel o tijera',).upper()\n",
    "    elif eleccion_jugador1 == 'PIEDRA' and eleccion_ordenador == 'PAPEL':\n",
    "        contador_ordenador +=1\n",
    "        print('¡El ordenador ha ganado un punto!')\n",
    "        eleccion_jugador1 = input('¿Elije de nuevo, piedra, papel o tijera',).upper()\n",
    "        print(contador_ordenador)\n",
    "    elif eleccion_jugador1 == 'PIEDRA' and eleccion_ordenador == 'PIEDRA':\n",
    "        print('Has empatado')\n",
    "        eleccion_jugador1 = input('¿Elije de nuevo, piedra, papel o tijera',).upper()\n",
    "\n",
    "    if eleccion_jugador1 == 'PAPEL' and eleccion_ordenador == 'PIEDRA':\n",
    "        contador_jugador1 +=1\n",
    "        print('¡Has ganado un punto!')\n",
    "        eleccion_jugador1 = input('¿Elije de nuevo, piedra, papel o tijera',).upper()\n",
    "    elif eleccion_jugador1 == 'PAPEL' and eleccion_ordenador == 'TIJERA':\n",
    "        contador_ordenador +=1\n",
    "        print('¡El ordenador ha ganado un punto!')\n",
    "        eleccion_jugador1 = input('¿Elije de nuevo, piedra, papel o tijera',).upper()\n",
    "        print(contador_ordenador)\n",
    "    elif eleccion_jugador1 == 'PAPEL' and eleccion_ordenador == 'PAPEL':\n",
    "        print('Has empatado')\n",
    "        eleccion_jugador1 = input('¿Elije de nuevo, piedra, papel o tijera',).upper()\n",
    "\n",
    "    if eleccion_jugador1 == 'TIJERA' and eleccion_ordenador == 'PIEDRA':\n",
    "        contador_jugador1 +=1\n",
    "        print('¡Has ganado un punto!')\n",
    "        eleccion_jugador1 = input('¿Elije de nuevo, piedra, papel o tijera',).upper()\n",
    "    elif eleccion_jugador1 == 'TIJERA' and eleccion_ordenador == 'PAPEL':\n",
    "        contador_ordenador +=1\n",
    "        print('¡El ordenador ha ganado un punto!')\n",
    "        eleccion_jugador1 = input('¿Elije de nuevo, piedra, papel o tijera',).upper()\n",
    "        print(contador_ordenador)\n",
    "    elif eleccion_jugador1 == 'TIJERA' and eleccion_ordenador == 'TIJERA':\n",
    "        print('Has empatado')\n",
    "        eleccion_jugador1 = input('¿Elije de nuevo, piedra, papel o tijera',).upper()\n",
    "else:\n",
    "    print('El juego ha terminado')\n"
   ]
  },
  {
   "cell_type": "markdown",
   "metadata": {},
   "source": [
    "Estamos definiendo los primeros pasos del ejercicio:\n",
    "    - definir variables\n",
    "    - formular elecciones\n",
    "    - crear contador\n",
    "\n",
    "Las opciones del juego serían:\n",
    "\n",
    "1. PIEDRA gana TIJERA\n",
    "2. PIEDRA pierde PAPEL\n",
    "3. PIEDRA empata PIEDRA\n",
    "\n",
    "1. TIJERA gana PAPEL\n",
    "2. TIJERA pierde PIEDRA\n",
    "3. TIJERA empata TIJERA\n",
    "\n",
    "1. PAPEL gana PIEDRA\n",
    "2. PAPEL pierde TIJERA\n",
    "3. PAPEL empata PAPEL"
   ]
  },
  {
   "cell_type": "code",
   "execution_count": 22,
   "metadata": {},
   "outputs": [],
   "source": [
    "\n"
   ]
  }
 ],
 "metadata": {
  "kernelspec": {
   "display_name": "base",
   "language": "python",
   "name": "python3"
  },
  "language_info": {
   "codemirror_mode": {
    "name": "ipython",
    "version": 3
   },
   "file_extension": ".py",
   "mimetype": "text/x-python",
   "name": "python",
   "nbconvert_exporter": "python",
   "pygments_lexer": "ipython3",
   "version": "3.9.7"
  }
 },
 "nbformat": 4,
 "nbformat_minor": 2
}
