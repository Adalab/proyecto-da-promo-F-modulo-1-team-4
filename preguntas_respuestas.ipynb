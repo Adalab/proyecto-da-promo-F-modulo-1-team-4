{
 "cells": [
  {
   "cell_type": "code",
   "execution_count": null,
   "metadata": {},
   "outputs": [],
   "source": [
    "\n",
    "import random\n",
    "\n",
    "diccionario_geo = {\n",
    "    \"Capital de España\": \"Madrid\",\n",
    "    \"Río pasa por Madrid\": \"Manzanares\",\n",
    "    \"¿En qué continente se encuentra Australia?\": \"Oceanía\",\n",
    "    \"¿Qué país tiene más población?\": \"India\",\n",
    "    \"¿Cuál es el océano más grande del mundo?\": \"Océano Pacífico\",\n",
    "    \"¿Cuál es el río más largo del mundo?\": \"El río Amazonas\",\n",
    "    \"¿Cuál es el punto más alto de la Tierra?\": \"El Monte Everest\",\n",
    "    \"¿En qué país se encuentra la Gran Muralla China?\": \"China\",\n",
    "    \"¿Cuál es el país más grande del mundo en términos de superficie?\": \"Rusia\",\n",
    "    \"¿Cuál es la capital de Francia?\": \"París\"\n",
    "}\n",
    "\n",
    "preguntas_lista = list(diccionario_geo.keys())\n",
    "\n",
    "def juego(diccionario_geo):\n",
    "    contador_aciertos = 0\n",
    "    contador_fallos = 0\n",
    "\n",
    "    while contador_aciertos < 5 and contador_fallos < 3:\n",
    "        pregunta = random.choice(preguntas_lista)\n",
    "        respuesta = diccionario_geo[pregunta]\n",
    "        respuesta_usuario = input(f'{pregunta} ')\n",
    "        \n",
    "        if respuesta_usuario == respuesta:\n",
    "            contador_aciertos += 1\n",
    "            print(f'Has acertado!\\nTus aciertos son {contador_aciertos} y tus fallos son {contador_fallos}')\n",
    "        else:\n",
    "            contador_fallos += 1\n",
    "            print(f'Has fallado!\\nTus aciertos son {contador_aciertos} y tus fallos son {contador_fallos}')\n",
    "\n",
    "    if contador_aciertos == 5:\n",
    "        print('¡Has ganado! Enhorabuena :)')\n",
    "    elif contador_fallos == 3:\n",
    "        print('¡Has perdido! Necesitas estudiar más :(')"
   ]
  }
 ],
 "metadata": {
  "language_info": {
   "name": "python"
  }
 },
 "nbformat": 4,
 "nbformat_minor": 2
}
