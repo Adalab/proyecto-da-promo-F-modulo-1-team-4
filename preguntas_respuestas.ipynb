{
 "cells": [
  {
   "cell_type": "code",
   "execution_count": 10,
   "metadata": {},
   "outputs": [],
   "source": [
    "\n",
    "import random\n",
    "\n",
    "class Juego():\n",
    "\n",
    "    def juego_preguntas_respuestas(diccionario_geo):\n",
    "\n",
    "        diccionario_geo = {\n",
    "            \"Capital de España\": \"Madrid\",\n",
    "            \"Río pasa por Madrid\": \"Manzanares\",\n",
    "            \"¿En qué continente se encuentra Australia?\": \"Oceanía\",\n",
    "            \"¿Qué país tiene más población?\": \"China\",\n",
    "            \"¿Cuál es el océano más grande del mundo?\": \"Océano Pacífico\",\n",
    "            \"¿Cuál es el río más largo del mundo?\": \"Amazonas\",\n",
    "            \"¿Cuál es el punto más alto de la Tierra?\": \"Monte Everest\",\n",
    "            \"¿En qué país se encuentra la Gran Muralla China?\": \"China\",\n",
    "            \"¿Cuál es el país más grande del mundo en términos de superficie?\": \"Rusia\",\n",
    "            \"¿Cuál es la capital de Francia?\": \"París\"\n",
    "        }\n",
    "\n",
    "        preguntas_lista = list(diccionario_geo.keys())\n",
    "\n",
    "\n",
    "        contador_aciertos = 0\n",
    "        contador_fallos = 0\n",
    "\n",
    "        while contador_aciertos < 5 and contador_fallos < 3:\n",
    "            pregunta = random.choice(preguntas_lista)\n",
    "            respuesta = diccionario_geo[pregunta]\n",
    "            respuesta_usuario = input(f'{pregunta} ')\n",
    "            \n",
    "            if respuesta_usuario == respuesta:\n",
    "                contador_aciertos += 1\n",
    "                print(f'Has acertado!\\nTus aciertos son {contador_aciertos} y tus fallos son {contador_fallos}')\n",
    "            else:\n",
    "                contador_fallos += 1\n",
    "                print(f'Has fallado!\\nTus aciertos son {contador_aciertos} y tus fallos son {contador_fallos}')\n",
    "\n",
    "        if contador_aciertos == 5:\n",
    "            print('¡Has ganado! Enhorabuena :)')\n",
    "        elif contador_fallos == 3:\n",
    "            print('¡Has perdido! Necesitas estudiar más :(')"
   ]
  },
  {
   "cell_type": "code",
   "execution_count": 11,
   "metadata": {},
   "outputs": [],
   "source": [
    "jugador1 = Juego()"
   ]
  },
  {
   "cell_type": "code",
   "execution_count": 12,
   "metadata": {},
   "outputs": [
    {
     "name": "stdout",
     "output_type": "stream",
     "text": [
      "Has fallado!\n",
      "Tus aciertos son 0 y tus fallos son 1\n",
      "Has fallado!\n",
      "Tus aciertos son 0 y tus fallos son 2\n",
      "Has fallado!\n",
      "Tus aciertos son 0 y tus fallos son 3\n",
      "¡Has perdido! Necesitas estudiar más :(\n"
     ]
    }
   ],
   "source": [
    "jugador1.juego_preguntas_respuestas()"
   ]
  }
 ],
 "metadata": {
  "kernelspec": {
   "display_name": "base",
   "language": "python",
   "name": "python3"
  },
  "language_info": {
   "codemirror_mode": {
    "name": "ipython",
    "version": 3
   },
   "file_extension": ".py",
   "mimetype": "text/x-python",
   "name": "python",
   "nbconvert_exporter": "python",
   "pygments_lexer": "ipython3",
   "version": "3.9.7"
  }
 },
 "nbformat": 4,
 "nbformat_minor": 2
}
