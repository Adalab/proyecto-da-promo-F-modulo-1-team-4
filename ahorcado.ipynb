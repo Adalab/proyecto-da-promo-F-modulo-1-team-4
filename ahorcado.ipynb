{
 "cells": [
  {
   "cell_type": "markdown",
   "metadata": {},
   "source": [
    "# Juego del ahorcado"
   ]
  },
  {
   "cell_type": "code",
   "execution_count": null,
   "metadata": {},
   "outputs": [],
   "source": [
    "#SIN FUNCIONES\n",
    "#1 creamos el dibujo asignando una variable a cada jugada perdida\n",
    "var1 = '==========='\n",
    "var2 = '         |\\n         |\\n         |\\n         |\\n         |\\n==========='\n",
    "var3 = '   +-----+\\n         |\\n         |\\n         |\\n         |\\n         |\\n==========='\n",
    "var4 = '   +-----+\\n   |     |\\n         |\\n         |\\n         |\\n         |\\n==========='\n",
    "var5 = '   +-----+\\n   |     |\\n   O     |\\n         |\\n         |\\n         |\\n==========='\n",
    "var6 = '   +-----+\\n   |     |\\n   O     |\\n   |     |\\n         |\\n         |\\n==========='\n",
    "var7 = '   +-----+\\n   |     |\\n   O     |\\n   |\\    |\\n         |\\n         |\\n==========='\n",
    "var8 = '   +-----+\\n   |     |\\n   O     |\\n  /|\\    |\\n         |\\n         |\\n==========='\n",
    "var9 = '   +-----+\\n   |     |\\n   O     |\\n  /|\\    |\\n    \\    |\\n         |\\n==========='\n",
    "var10= '   +-----+\\n   |     |\\n   O     |\\n  /|\\    |\\n  / \\    |\\n         |\\n==========='\n",
    "\n",
    "dibujo =[var1,var2,var3,var4,var5,var6,var7,var8,var9,var10]\n",
    "\n",
    "#2 creamos lista de palabras e importamos librería random\n",
    "import random\n",
    "lista_palabras = [\"IGUANA\", \"PINTAR\", \"OBISPO\", \"PIÑATA\", \"OTORRINO\", \"MEMBRILLO\", \"REPASO\"]\n",
    "secreta = random.choice(lista_palabras)\n",
    "\n",
    "\n",
    "#3 creamos las variables que vamos a usar, y una función que muestre los guiones con el número de letras de la palabra\n",
    "secreta2 = secreta.upper()\n",
    "usadas = []\n",
    "secreta_guiones = []\n",
    "for letra in secreta:\n",
    "    secreta_guiones.append('_')\n",
    "\n",
    "#4 comienza el juego\n",
    "\n",
    "fallos = 0\n",
    "\n",
    "while fallos < 10 and '_' in secreta_guiones:\n",
    "    if '_' in secreta_guiones:\n",
    "        letra = input ('Dime una letra').upper()\n",
    "        if letra not in usadas:\n",
    "            if letra in secreta:\n",
    "                print(f'¡Has acertado! La letra {letra} está en la palabra secreta:')\n",
    "                for indice,letras in enumerate (secreta):\n",
    "                    if letras == letra:\n",
    "                        secreta_guiones[indice] = letra\n",
    "                secreta = secreta.replace(letra,'-') \n",
    "                print(''.join(secreta_guiones))\n",
    "                usadas.append(letra)\n",
    "            else:\n",
    "                print(f'La letra {letra} no está en la palabra secreta\\n{dibujo[fallos]}')\n",
    "                fallos +=1\n",
    "                usadas.append(letra)\n",
    "        else:\n",
    "            print(f'Ya has usado la letra {letra}')\n",
    "\n",
    "if '_' not in secreta_guiones:\n",
    "        print(f'¡Has ganado! La palabra secreta es: {secreta2}')\n",
    "else:\n",
    "    print(f'¡Lo sentimos!¡Has perdido la partida! La palabra secreta es: {secreta2}')"
   ]
  }
 ],
 "metadata": {
  "kernelspec": {
   "display_name": "base",
   "language": "python",
   "name": "python3"
  },
  "language_info": {
   "name": "python",
   "version": "3.9.7"
  }
 },
 "nbformat": 4,
 "nbformat_minor": 2
}
