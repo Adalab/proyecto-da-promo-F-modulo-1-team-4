{
 "cells": [
  {
   "cell_type": "markdown",
   "metadata": {},
   "source": [
    "# Juego del ahorcado"
   ]
  },
  {
   "cell_type": "code",
   "execution_count": null,
   "metadata": {},
   "outputs": [],
   "source": [
    "# Diseñamos el dibujo del ahorcado:\n",
    "\n",
    "var1 = '==========='\n",
    "var2 = '         |\\n         |\\n         |\\n         |\\n         |\\n==========='\n",
    "var3 = '   +-----+\\n         |\\n         |\\n         |\\n         |\\n         |\\n==========='\n",
    "var4 = '   +-----+\\n   |     |\\n         |\\n         |\\n         |\\n         |\\n==========='\n",
    "var5 = '   +-----+\\n   |     |\\n   O     |\\n         |\\n         |\\n         |\\n==========='\n",
    "var6 = '   +-----+\\n   |     |\\n   O     |\\n   |     |\\n         |\\n         |\\n==========='\n",
    "var7 = '   +-----+\\n   |     |\\n   O     |\\n   |\\    |\\n         |\\n         |\\n==========='\n",
    "var8 = '   +-----+\\n   |     |\\n   O     |\\n  /|\\    |\\n         |\\n         |\\n==========='\n",
    "var9 = '   +-----+\\n   |     |\\n   O     |\\n  /|\\    |\\n    \\    |\\n         |\\n==========='\n",
    "var10= '   +-----+\\n   |     |\\n   O     |\\n  /|\\    |\\n  / \\    |\\n         |\\n==========='\n",
    "\n",
    "dibujo =[var1,var2,var3,var4,var5,var6,var7,var8,var9,var10]\n",
    "print(dibujo[9])\n"
   ]
  },
  {
   "cell_type": "code",
   "execution_count": null,
   "metadata": {},
   "outputs": [],
   "source": [
    "# Importamos random para hacer la selección de la palabra dentro de un listado que diseñamos\n",
    "\n",
    "import random\n",
    "lista_palabras = [\"iguana\", \"agonia\", \"pintar\", \"obispo\", \"blanco\", \"multar\", \"repaso\"]\n",
    "secreta = random.choice(lista_palabras)"
   ]
  },
  {
   "cell_type": "code",
   "execution_count": null,
   "metadata": {},
   "outputs": [],
   "source": [
    "secreta = 'iguana'  #provisional para comprobar el juego\n",
    "\n",
    "fallos = 0\n",
    "\n",
    "#borrador del loop\n",
    "while fallos < 10:\n",
    "    letra = input ('Dime una letra').lower()\n",
    "\n",
    "    if letra in secreta:\n",
    "        print(f'¡Has acertado! La letra {letra} está en la palabra secreta\\n')\n",
    "        pass\n",
    "    \n",
    "    elif letra not in secreta:\n",
    "        print(f'La letra {letra} no está en la palabra secreta')\n",
    "        print(dibujo[fallos])\n",
    "        fallos +=1\n",
    "else:\n",
    "    print(f'¡Lo sentimos!¡Has perdido la partida! La palabra secreta es {secreta}')"
   ]
  },
  {
   "cell_type": "code",
   "execution_count": null,
   "metadata": {},
   "outputs": [],
   "source": [
    "#borrador para imprimir las letras acertadas\n",
    "\n",
    "letra = 'a'\n",
    "secreta = 'iguana'\n",
    "secreta = list(secreta)\n",
    "secreta2 = list('------')\n",
    "\n",
    "while letra in secreta:\n",
    "    indice = secreta.index(letra)\n",
    "    secreta2[indice] = letra\n",
    "    print(''.join(secreta2))"
   ]
  }
 ],
 "metadata": {
  "kernelspec": {
   "display_name": "base",
   "language": "python",
   "name": "python3"
  },
  "language_info": {
   "name": "python",
   "version": "3.9.7"
  }
 },
 "nbformat": 4,
 "nbformat_minor": 2
}
