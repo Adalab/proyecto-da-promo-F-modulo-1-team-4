{
 "cells": [
  {
   "cell_type": "markdown",
   "metadata": {},
   "source": [
    "# PREGUNTAS Y RESPUESTAS\n",
    "- Reglas del Juego de \"Preguntas y Respuestas de Geografía\":\n",
    "    - El juego consiste en hacer preguntas de geografía y que el jugador adivine la respuesta correcta.\n",
    "\n",
    "    - Cada pregunta tiene una respuesta única y correcta.\n",
    "\n",
    "    - El jugador tiene un número limitado de intentos para responder correctamente a cada pregunta.\n",
    "\n",
    "    - El juego sigue hasta que el jugador responda incorrectamente 3 de veces o haya respondido 5 preguntas correctamente.\n",
    "\n",
    "\n",
    "- Pistas para las alumnas:\n",
    "\n",
    "    1. Comienza creando un diccionario que contenga preguntas de geografía como claves y respuestas como valores.\n",
    "\n",
    "    2. Implementa una función para seleccionar una pregunta aleatoria del diccionario.\n",
    "\n",
    "    3. Utiliza un bucle `while` para hacer preguntas de geografía hasta que el jugador responda un número específico de preguntas correctamente o alcance un número máximo de respuestas incorrectas.\n",
    "\n",
    "    4. Dentro del bucle, presenta la pregunta al jugador y permita que ingresen sus respuestas.\n",
    "\n",
    "    5. Lleva un seguimiento del número de preguntas realizadas y el número de respuestas correctas.\n",
    "\n",
    "    6. Determina las condiciones de victoria y derrota del juego y sal del bucle cuando se cumplan estas condiciones."
   ]
  },
  {
   "cell_type": "code",
   "execution_count": 1,
   "metadata": {},
   "outputs": [
    {
     "data": {
      "text/plain": [
       "dict"
      ]
     },
     "execution_count": 1,
     "metadata": {},
     "output_type": "execute_result"
    }
   ],
   "source": [
    "diccionario_geo = {'capital de España' : 'Madrid', 'Río pasa por Madrid' : 'Manzanares'}\n",
    "\n",
    "contador_aciertos = []\n",
    "contador_fallos = []\n",
    "\n",
    "for pregunta, respuesta in diccionario_geo.items():\n",
    "    print(respuesta)\n",
    "\n",
    "    while contador_aciertos < 5 and contador_fallos <3:\n",
    "\n",
    "        respuesta_usuario = input(f' {diccionario_geo.keys()} Tu respuesta es ').lower\n",
    "        if respuesta_usuario == value de la key \n",
    "           contador_aciertos +=1\n",
    "           print(f'Has acertado!\\n tus aciertos son {contador_aciertos} y tus fallos son {contador_fallos}')\n",
    "           \n",
    "        elif respuesta_usuario != value de la key:\n",
    "            contador_fallos +=1\n",
    "            print(f'Has fallado!\\n tus aciertos son {contador_aciertos} y tus fallos son {contador_fallos}')\n",
    "\n",
    "        \n",
    "        if contador_aciertos == 5 or contador_fallos == 3:\n",
    "            if contador_aciertos == 5:\n",
    "                print(f'Has ganado!!!!! Enhorabuena :)') \n",
    "\n",
    "            elif contador_fallos == 3:\n",
    "                print(f'Has perdido... Hay que estudiar más :(') \n",
    "      \n",
    "            \n"
   ]
  },
  {
   "cell_type": "code",
   "execution_count": null,
   "metadata": {},
   "outputs": [],
   "source": [
    "# def pregunta (diccionario_geo):"
   ]
  },
  {
   "cell_type": "code",
   "execution_count": 1,
   "metadata": {},
   "outputs": [],
   "source": [
    "import random"
   ]
  },
  {
   "cell_type": "code",
   "execution_count": 15,
   "metadata": {},
   "outputs": [
    {
     "name": "stdout",
     "output_type": "stream",
     "text": [
      "manzanares\n"
     ]
    }
   ],
   "source": [
    "diccionario_geo = list({'capital de España' : 'Madrid', 'Río pasa por Madrid' : 'Manzanares'})\n",
    "\n",
    "diccionario_geo_random = random.sample(diccionario_geo, 1)\n",
    "\n",
    "\n",
    "respuesta_usuario = input(f'{diccionario_geo_random} Tu respuesta es ').lower()\n",
    "print(respuesta_usuario)\n",
    "        "
   ]
  },
  {
   "cell_type": "code",
   "execution_count": null,
   "metadata": {},
   "outputs": [],
   "source": [
    "if respuesta_usuario == value de la key \n",
    "           contador_aciertos +=1\n",
    "           print(f'Has acertado!\\n tus aciertos son {contador_aciertos} y tus fallos son {contador_fallos}')\n",
    "           \n",
    "        elif respuesta_usuario != value de la key:\n",
    "            contador_fallos +=1\n",
    "            print(f'Has fallado!\\n tus aciertos son {contador_aciertos} y tus fallos son {contador_fallos}')\n",
    "\n",
    "        \n",
    "        if contador_aciertos == 5 or contador_fallos == 3:\n",
    "            if contador_aciertos == 5:\n",
    "                print(f'Has ganado!!!!! Enhorabuena :)') \n",
    "\n",
    "            elif contador_fallos == 3:\n",
    "                print(f'Has perdido... Hay que estudiar más :(') \n",
    "      "
   ]
  }
 ],
 "metadata": {
  "kernelspec": {
   "display_name": "base",
   "language": "python",
   "name": "python3"
  },
  "language_info": {
   "codemirror_mode": {
    "name": "ipython",
    "version": 3
   },
   "file_extension": ".py",
   "mimetype": "text/x-python",
   "name": "python",
   "nbconvert_exporter": "python",
   "pygments_lexer": "ipython3",
   "version": "3.9.7"
  }
 },
 "nbformat": 4,
 "nbformat_minor": 2
}
