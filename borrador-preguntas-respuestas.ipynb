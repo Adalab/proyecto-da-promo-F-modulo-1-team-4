{
 "cells": [
  {
   "cell_type": "markdown",
   "metadata": {},
   "source": [
    "# PREGUNTAS Y RESPUESTAS\n",
    "- Reglas del Juego de \"Preguntas y Respuestas de Geografía\":\n",
    "    - El juego consiste en hacer preguntas de geografía y que el jugador adivine la respuesta correcta.\n",
    "\n",
    "    - Cada pregunta tiene una respuesta única y correcta.\n",
    "\n",
    "    - El jugador tiene un número limitado de intentos para responder correctamente a cada pregunta.\n",
    "\n",
    "    - El juego sigue hasta que el jugador responda incorrectamente 3 de veces o haya respondido 5 preguntas correctamente.\n",
    "\n",
    "\n",
    "- Pistas para las alumnas:\n",
    "\n",
    "    1. Comienza creando un diccionario que contenga preguntas de geografía como claves y respuestas como valores.\n",
    "\n",
    "    2. Implementa una función para seleccionar una pregunta aleatoria del diccionario.\n",
    "\n",
    "    3. Utiliza un bucle `while` para hacer preguntas de geografía hasta que el jugador responda un número específico de preguntas correctamente o alcance un número máximo de respuestas incorrectas.\n",
    "\n",
    "    4. Dentro del bucle, presenta la pregunta al jugador y permita que ingresen sus respuestas.\n",
    "\n",
    "    5. Lleva un seguimiento del número de preguntas realizadas y el número de respuestas correctas.\n",
    "\n",
    "    6. Determina las condiciones de victoria y derrota del juego y sal del bucle cuando se cumplan estas condiciones."
   ]
  },
  {
   "cell_type": "code",
   "execution_count": 37,
   "metadata": {},
   "outputs": [],
   "source": [
    "import random"
   ]
  },
  {
   "cell_type": "code",
   "execution_count": 38,
   "metadata": {},
   "outputs": [
    {
     "name": "stdout",
     "output_type": "stream",
     "text": [
      "Su respuesta es Madrid\n",
      "Su respuesta es \n"
     ]
    }
   ],
   "source": [
    "\n",
    "diccionario_geo = list({'Capital de españa' : 'Madrid', 'Río pasa por madrid' : 'Manzanares'})\n",
    "diccionario_geo_random = random.sample(diccionario_geo, 1)\n",
    "contador_aciertos = 0\n",
    "contador_fallos = 0\n",
    "\n",
    "for  respuesta in diccionario_geo_random:\n",
    "            \n",
    "    while contador_aciertos < 5 and contador_fallos <3:\n",
    "    \n",
    "        respuesta_usuario = input(f'{diccionario_geo_random}')\n",
    "        print(f'Su respuesta es {respuesta_usuario}')    \n",
    "\n",
    "        if respuesta_usuario in diccionario_geo_random:\n",
    "            contador_aciertos +=1\n",
    "            print(f'Has acertado!\\n tus aciertos son {contador_aciertos} y tus fallos son {contador_fallos}')\n",
    "           \n",
    "       \n",
    "if contador_aciertos == 5 or contador_fallos == 3:\n",
    "            if contador_aciertos == 5:\n",
    "                print(f'Has ganado!!!!! Enhorabuena :)') \n",
    "\n",
    "            elif contador_fallos == 3:\n",
    "                print(f'Has perdido... Hay que estudiar más :(') \n",
    "      "
   ]
  },
  {
   "cell_type": "code",
   "execution_count": null,
   "metadata": {},
   "outputs": [],
   "source": [
    "# def pregunta (diccionario_geo):"
   ]
  },
  {
   "cell_type": "code",
   "execution_count": null,
   "metadata": {},
   "outputs": [],
   "source": [
    "import random"
   ]
  },
  {
   "cell_type": "code",
   "execution_count": null,
   "metadata": {},
   "outputs": [
    {
     "name": "stdout",
     "output_type": "stream",
     "text": [
      "madrid\n"
     ]
    }
   ],
   "source": [
    "if respuesta_usuario == value de la key \n",
    "           contador_aciertos +=1\n",
    "           print(f'Has acertado!\\n tus aciertos son {contador_aciertos} y tus fallos son {contador_fallos}')\n",
    "           \n",
    "        elif respuesta_usuario != value de la key:\n",
    "            contador_fallos +=1\n",
    "            print(f'Has fallado!\\n tus aciertos son {contador_aciertos} y tus fallos son {contador_fallos}')\n",
    "\n",
    "        \n",
    "        if contador_aciertos == 5 or contador_fallos == 3:\n",
    "            if contador_aciertos == 5:\n",
    "                print(f'Has ganado!!!!! Enhorabuena :)') \n",
    "\n",
    "            elif contador_fallos == 3:\n",
    "                print(f'Has perdido... Hay que estudiar más :(') \n",
    "      \n",
    "            \n",
    "\n",
    "        "
   ]
  },
  {
   "cell_type": "code",
   "execution_count": null,
   "metadata": {},
   "outputs": [],
   "source": [
    "if respuesta_usuario == value de la key \n",
    "           contador_aciertos +=1\n",
    "           print(f'Has acertado!\\n tus aciertos son {contador_aciertos} y tus fallos son {contador_fallos}')\n",
    "           \n",
    "        elif respuesta_usuario != value de la key:\n",
    "            contador_fallos +=1\n",
    "            print(f'Has fallado!\\n tus aciertos son {contador_aciertos} y tus fallos son {contador_fallos}')\n",
    "\n",
    "        \n",
    "        if contador_aciertos == 5 or contador_fallos == 3:\n",
    "            if contador_aciertos == 5:\n",
    "                print(f'Has ganado!!!!! Enhorabuena :)') \n",
    "\n",
    "            elif contador_fallos == 3:\n",
    "                print(f'Has perdido... Hay que estudiar más :(') \n",
    "      "
   ]
  },
  {
   "cell_type": "code",
   "execution_count": null,
   "metadata": {},
   "outputs": [
    {
     "name": "stdout",
     "output_type": "stream",
     "text": [
      "Su respuesta es \n",
      "no has acertado\n"
     ]
    },
    {
     "ename": "NameError",
     "evalue": "name 'contador_aciertos' is not defined",
     "output_type": "error",
     "traceback": [
      "\u001b[0;31m---------------------------------------------------------------------------\u001b[0m",
      "\u001b[0;31mNameError\u001b[0m                                 Traceback (most recent call last)",
      "\u001b[0;32m/tmp/ipykernel_3182/1502131774.py\u001b[0m in \u001b[0;36m<module>\u001b[0;34m\u001b[0m\n\u001b[1;32m     14\u001b[0m \u001b[0;34m\u001b[0m\u001b[0m\n\u001b[1;32m     15\u001b[0m \u001b[0;31m#if contador_aciertos == 5 or contador_fallos == 3:\u001b[0m\u001b[0;34m\u001b[0m\u001b[0;34m\u001b[0m\u001b[0m\n\u001b[0;32m---> 16\u001b[0;31m         \u001b[0;32mif\u001b[0m \u001b[0mcontador_aciertos\u001b[0m \u001b[0;34m==\u001b[0m \u001b[0;36m5\u001b[0m\u001b[0;34m:\u001b[0m\u001b[0;34m\u001b[0m\u001b[0;34m\u001b[0m\u001b[0m\n\u001b[0m\u001b[1;32m     17\u001b[0m                 \u001b[0mprint\u001b[0m\u001b[0;34m(\u001b[0m\u001b[0;34mf'Has ganado!!!!! Enhorabuena :)'\u001b[0m\u001b[0;34m)\u001b[0m\u001b[0;34m\u001b[0m\u001b[0;34m\u001b[0m\u001b[0m\n\u001b[1;32m     18\u001b[0m \u001b[0;34m\u001b[0m\u001b[0m\n",
      "\u001b[0;31mNameError\u001b[0m: name 'contador_aciertos' is not defined"
     ]
    }
   ],
   "source": [
    "diccionario_geo = {'Capital de españa' : 'Madrid', 'Río pasa por madrid' : 'Manzanares'}\n",
    "x = diccionario_geo.keys()\n",
    "y = diccionario_geo.values()\n",
    "\n",
    "for  respuesta in diccionario_geo_random:\n",
    "  \n",
    "    respuesta_usuario = input(f'{diccionario_geo_random}')          \n",
    "    print(f'Su respuesta es {respuesta_usuario}')\n",
    "\n",
    "    while respuesta_usuario in diccionario_geo_random:\n",
    "        print('has acertado')\n",
    "        respuesta_usuario = input(f'{diccionario_geo_random}')\n",
    "    else: \n",
    "        print('no has acertado')\n",
    "       \n",
    "#if contador_aciertos == 5 or contador_fallos == 3:\n",
    "        if contador_aciertos == 5:\n",
    "                print(f'Has ganado!!!!! Enhorabuena :)') \n",
    "\n",
    "        elif contador_fallos == 3:\n",
    "                print(f'Has perdido... Hay que estudiar más :(') \n",
    "      "
   ]
  },
  {
   "cell_type": "code",
   "execution_count": null,
   "metadata": {},
   "outputs": [],
   "source": [
    "jugador1 = Juego()"
   ]
  },
  {
   "cell_type": "code",
   "execution_count": null,
   "metadata": {},
   "outputs": [
    {
     "name": "stdout",
     "output_type": "stream",
     "text": [
      "Has fallado!\n",
      "Tus aciertos son 0 y tus fallos son 1\n",
      "Has fallado!\n",
      "Tus aciertos son 0 y tus fallos son 2\n",
      "Has fallado!\n",
      "Tus aciertos son 0 y tus fallos son 3\n",
      "¡Has perdido! Necesitas estudiar más :(\n"
     ]
    }
   ],
   "source": [
    "jugador1.juego_preguntas_respuestas()"
   ]
  },
  {
   "cell_type": "code",
   "execution_count": null,
   "metadata": {},
   "outputs": [],
   "source": [
    "import random\n",
    "\n",
    "class Juego():\n",
    "    def juego_preguntas_respuestas(diccionario_geo):\n",
    "        \n",
    "        diccionario_geo = {\n",
    "            \"Capital de España\": \"Madrid\",\n",
    "            \"Río pasa por Madrid\": \"Manzanares\",\n",
    "            \"¿En qué continente se encuentra Australia?\": \"Oceanía\",\n",
    "            \"¿Qué país tiene más población?\": \"China\",\n",
    "            \"¿Cuál es el océano más grande del mundo?\": \"Océano Pacífico\",\n",
    "            \"¿Cuál es el río más largo del mundo?\": \"Amazonas\",\n",
    "            \"¿Cuál es el punto más alto de la Tierra?\": \"Monte Everest\",\n",
    "            \"¿En qué país se encuentra la Gran Muralla China?\": \"China\",\n",
    "            \"¿Cuál es el país más grande del mundo en términos de superficie?\": \"Rusia\",\n",
    "            \"¿Cuál es la capital de Francia?\": \"París\",\n",
    "            \"¿Cuál es el punto más alto de sudámerica?\" : \"El aconcagua\",\n",
    "            \"¿En que país se encuentra el Taj mahal\": \"India\",\n",
    "            \"¿Cuál es la capital de Italia?\": \"Roma\",\n",
    "            \"¿Área fértil en el desierto?\" : \"Oasis\",\n",
    "            \"¿Cuál es el lago más grande de África?\": \"Victoria\"\n",
    "        }\n",
    "\n",
    "\n",
    "        preguntas_originales = list(diccionario_geo.keys())  # Copia de la lista original\n",
    "        preguntas_lista = list(preguntas_originales)  # Baraja esta lista\n",
    "\n",
    "        random.choice(preguntas_lista)  # Baraja la lista de preguntas\n",
    "\n",
    "        contador_aciertos = 0\n",
    "        contador_fallos = 0\n",
    "\n",
    "        while contador_aciertos < 5 and contador_fallos < 3:\n",
    "            pregunta = preguntas_lista.pop()  # Obtiene la última pregunta en la lista barajada\n",
    "            respuesta = diccionario_geo[pregunta]\n",
    "            respuesta_usuario = input(f'{pregunta} ')\n",
    "\n",
    "            if respuesta_usuario == respuesta:\n",
    "                contador_aciertos += 1\n",
    "                print(f'Has acertado!\\nTus aciertos son {contador_aciertos} y tus fallos son {contador_fallos}')\n",
    "            else:\n",
    "                contador_fallos += 1\n",
    "                print(f'Has fallado!\\nTus aciertos son {contador_aciertos} y tus fallos son {contador_fallos}')\n",
    "\n",
    "        if contador_aciertos == 5:\n",
    "            print('¡Has ganado! Enhorabuena :)')\n",
    "        elif contador_fallos == 3:\n",
    "            print('¡Has perdido! ¡Necesitas estudiar más! :(')"
   ]
  },
  {
   "cell_type": "code",
   "execution_count": null,
   "metadata": {},
   "outputs": [],
   "source": [
    "jugador1 = Juego()"
   ]
  },
  {
   "cell_type": "code",
   "execution_count": null,
   "metadata": {},
   "outputs": [
    {
     "name": "stdout",
     "output_type": "stream",
     "text": [
      "Has acertado!\n",
      "Tus aciertos son 1 y tus fallos son 0\n",
      "Has acertado!\n",
      "Tus aciertos son 2 y tus fallos son 0\n",
      "Has acertado!\n",
      "Tus aciertos son 3 y tus fallos son 0\n",
      "Has acertado!\n",
      "Tus aciertos son 4 y tus fallos son 0\n",
      "Has acertado!\n",
      "Tus aciertos son 5 y tus fallos son 0\n",
      "¡Has ganado! Enhorabuena :)\n"
     ]
    }
   ],
   "source": [
    "jugador1.juego_preguntas_respuestas()"
   ]
  },
  {
   "cell_type": "code",
   "execution_count": 4,
   "metadata": {},
   "outputs": [],
   "source": [
    "import random\n",
    "\n",
    "class Juego():\n",
    "    def juego_preguntas_respuestas(diccionario_geo):\n",
    "        \n",
    "        diccionario_geo = {\n",
    "            \"Capital de España\": \"Madrid\",\n",
    "            \"Río pasa por Madrid\": \"Manzanares\",\n",
    "            \"¿En qué continente se encuentra Australia?\": \"Oceanía\",\n",
    "            \"¿Qué país tiene más población?\": \"China\",\n",
    "            \"¿Cuál es el océano más grande del mundo?\": \"Océano Pacífico\",\n",
    "            \"¿Cuál es el río más largo del mundo?\": \"Amazonas\",\n",
    "            \"¿Cuál es el punto más alto de la Tierra?\": \"Monte Everest\",\n",
    "            \"¿En qué país se encuentra la Gran Muralla China?\": \"China\",\n",
    "            \"¿Cuál es el país más grande del mundo en términos de superficie?\": \"Rusia\",\n",
    "            \"¿Cuál es la capital de Francia?\": \"París\",\n",
    "            \"¿Cuál es el punto más alto de sudámerica?\" : \"El aconcagua\",\n",
    "            \"¿En que país se encuentra el Taj mahal\": \"India\",\n",
    "            \"¿Cuál es la capital de Italia?\": \"Roma\",\n",
    "            \"¿Área fértil en el desierto?\" : \"Oasis\",\n",
    "            \"¿Cuál es el lago más grande de África?\": \"Victoria\"\n",
    "        }\n",
    "\n",
    "\n",
    "        preguntas_originales = list(diccionario_geo.keys())  \n",
    "        preguntas_lista = list(preguntas_originales)  \n",
    "        pregunta =random.choice(preguntas_lista)\n",
    "        contador_aciertos = 0\n",
    "        contador_fallos = 0\n",
    "\n",
    "        while contador_aciertos < 5 and contador_fallos < 3:\n",
    "            \n",
    "            pregunta =random.choice(preguntas_lista)\n",
    "            \n",
    "            respuesta = diccionario_geo[pregunta]\n",
    "            respuesta_usuario = input(f'{pregunta} ')\n",
    "\n",
    "            if respuesta_usuario == respuesta:\n",
    "                contador_aciertos += 1\n",
    "                print(f'Has acertado!\\nTus aciertos son {contador_aciertos} y tus fallos son {contador_fallos}')\n",
    "            else:\n",
    "                contador_fallos += 1\n",
    "                print(f'Has fallado!\\nTus aciertos son {contador_aciertos} y tus fallos son {contador_fallos}')\n",
    "\n",
    "        if contador_aciertos == 5:\n",
    "            print('¡Has ganado! Enhorabuena :)')\n",
    "        elif contador_fallos == 3:\n",
    "            print('¡Has perdido! ¡Necesitas estudiar más! :(')"
   ]
  },
  {
   "cell_type": "code",
   "execution_count": 5,
   "metadata": {},
   "outputs": [],
   "source": [
    "jugador1 = Juego()"
   ]
  },
  {
   "cell_type": "code",
   "execution_count": 6,
   "metadata": {},
   "outputs": [
    {
     "name": "stdout",
     "output_type": "stream",
     "text": [
      "Has acertado!\n",
      "Tus aciertos son 1 y tus fallos son 0\n",
      "Has acertado!\n",
      "Tus aciertos son 2 y tus fallos son 0\n",
      "Has acertado!\n",
      "Tus aciertos son 3 y tus fallos son 0\n",
      "Has acertado!\n",
      "Tus aciertos son 4 y tus fallos son 0\n",
      "Has fallado!\n",
      "Tus aciertos son 4 y tus fallos son 1\n",
      "Has acertado!\n",
      "Tus aciertos son 5 y tus fallos son 1\n",
      "¡Has ganado! Enhorabuena :)\n"
     ]
    }
   ],
   "source": [
    "jugador1.juego_preguntas_respuestas()"
   ]
  }
 ],
 "metadata": {
  "kernelspec": {
   "display_name": "base",
   "language": "python",
   "name": "python3"
  },
  "language_info": {
   "codemirror_mode": {
    "name": "ipython",
    "version": 3
   },
   "file_extension": ".py",
   "mimetype": "text/x-python",
   "name": "python",
   "nbconvert_exporter": "python",
   "pygments_lexer": "ipython3",
   "version": "3.9.7"
  }
 },
 "nbformat": 4,
 "nbformat_minor": 2
}
